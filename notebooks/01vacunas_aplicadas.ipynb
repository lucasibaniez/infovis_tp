{
 "cells": [
  {
   "cell_type": "code",
   "execution_count": 2,
   "id": "988b4909-a1e6-427f-becb-19538bf18f8b",
   "metadata": {},
   "outputs": [],
   "source": [
    "# Importamos librerias\n",
    "import pandas as pd\n",
    "import os\n",
    "import urllib.request\n",
    "import numpy as np"
   ]
  },
  {
   "cell_type": "code",
   "execution_count": 4,
   "id": "f4f630c7-2d07-4c4f-9a67-a69b1acede7a",
   "metadata": {},
   "outputs": [],
   "source": [
    "# Variables a utilizar\n",
    "url = \"https://sisa.msal.gov.ar/datos/descargas/covid-19/files/\"\n",
    "filename = \"datos_nomivac_covid19.zip\"\n",
    "data = \"datos_nomivac_covid19.csv\""
   ]
  },
  {
   "cell_type": "code",
   "execution_count": null,
   "id": "6f5d83ee-0d40-4fc1-86cb-4c22884861de",
   "metadata": {
    "collapsed": true,
    "jupyter": {
     "outputs_hidden": true
    },
    "tags": []
   },
   "outputs": [],
   "source": [
    "# Obtenemos Archivo y Descomprimimos\n",
    "\n",
    "urllib.request.urlretrieve(url, filename)\n",
    "# !wget -c https://sisa.msal.gov.ar/datos/descargas/covid-19/files/datos_nomivac_covid19.zip\n",
    "# !unzip datos_nomivac_covid19.zip"
   ]
  },
  {
   "cell_type": "code",
   "execution_count": 4,
   "id": "3c70ab3e-3a93-4d37-9337-a00de534c7ee",
   "metadata": {
    "tags": []
   },
   "outputs": [
    {
     "name": "stdout",
     "output_type": "stream",
     "text": [
      "File Name                                             Modified             Size\n",
      "datos_nomivac_covid19.csv                      2021-09-30 07:37:32   7870338412\n"
     ]
    }
   ],
   "source": [
    "# Descomprimirmos Archivo\n",
    "from zipfile import ZipFile\n",
    "\n",
    "with ZipFile(filename, 'r') as zip:\n",
    "    zip.printdir()\n",
    "    zip.extractall() "
   ]
  },
  {
   "cell_type": "code",
   "execution_count": 5,
   "id": "e28c6973-0d1a-4dae-9f28-96b5787358be",
   "metadata": {},
   "outputs": [],
   "source": [
    "# Leemos Dataframe\n",
    "df = pd.read_csv(filename, dtype= {'jurisdiccion_residencia_id' : object, \n",
    "                                                      'depto_residencia_id'        : object, \n",
    "                                                      'jurisdiccion_aplicacion_id' : object, \n",
    "                                                      'depto_aplicacion_id'        : object})"
   ]
  },
  {
   "cell_type": "code",
   "execution_count": 9,
   "id": "a2f98032-7df5-47c5-b214-11872295481f",
   "metadata": {},
   "outputs": [
    {
     "data": {
      "text/html": [
       "<div>\n",
       "<style scoped>\n",
       "    .dataframe tbody tr th:only-of-type {\n",
       "        vertical-align: middle;\n",
       "    }\n",
       "\n",
       "    .dataframe tbody tr th {\n",
       "        vertical-align: top;\n",
       "    }\n",
       "\n",
       "    .dataframe thead th {\n",
       "        text-align: right;\n",
       "    }\n",
       "</style>\n",
       "<table border=\"1\" class=\"dataframe\">\n",
       "  <thead>\n",
       "    <tr style=\"text-align: right;\">\n",
       "      <th></th>\n",
       "      <th>sexo</th>\n",
       "      <th>grupo_etario</th>\n",
       "      <th>jurisdiccion_residencia</th>\n",
       "      <th>jurisdiccion_residencia_id</th>\n",
       "      <th>depto_residencia</th>\n",
       "      <th>depto_residencia_id</th>\n",
       "      <th>jurisdiccion_aplicacion</th>\n",
       "      <th>jurisdiccion_aplicacion_id</th>\n",
       "      <th>depto_aplicacion</th>\n",
       "      <th>depto_aplicacion_id</th>\n",
       "      <th>fecha_aplicacion</th>\n",
       "      <th>vacuna</th>\n",
       "      <th>condicion_aplicacion</th>\n",
       "      <th>orden_dosis</th>\n",
       "      <th>lote_vacuna</th>\n",
       "    </tr>\n",
       "  </thead>\n",
       "  <tbody>\n",
       "    <tr>\n",
       "      <th>0</th>\n",
       "      <td>F</td>\n",
       "      <td>40-49</td>\n",
       "      <td>Mendoza</td>\n",
       "      <td>50</td>\n",
       "      <td>La Paz</td>\n",
       "      <td>042</td>\n",
       "      <td>Mendoza</td>\n",
       "      <td>50</td>\n",
       "      <td>La Paz</td>\n",
       "      <td>042</td>\n",
       "      <td>2021-08-19</td>\n",
       "      <td>AstraZeneca</td>\n",
       "      <td>18 a 59 años CON Factores de Riesgo</td>\n",
       "      <td>2</td>\n",
       "      <td>NJ0037</td>\n",
       "    </tr>\n",
       "    <tr>\n",
       "      <th>1</th>\n",
       "      <td>F</td>\n",
       "      <td>40-49</td>\n",
       "      <td>Mendoza</td>\n",
       "      <td>50</td>\n",
       "      <td>La Paz</td>\n",
       "      <td>042</td>\n",
       "      <td>Mendoza</td>\n",
       "      <td>50</td>\n",
       "      <td>La Paz</td>\n",
       "      <td>042</td>\n",
       "      <td>2021-06-23</td>\n",
       "      <td>AstraZeneca</td>\n",
       "      <td>18 a 59 años CON Factores de Riesgo</td>\n",
       "      <td>1</td>\n",
       "      <td>NH0163</td>\n",
       "    </tr>\n",
       "    <tr>\n",
       "      <th>2</th>\n",
       "      <td>M</td>\n",
       "      <td>40-49</td>\n",
       "      <td>Buenos Aires</td>\n",
       "      <td>06</td>\n",
       "      <td>Quilmes</td>\n",
       "      <td>658</td>\n",
       "      <td>Buenos Aires</td>\n",
       "      <td>06</td>\n",
       "      <td>Quilmes</td>\n",
       "      <td>658</td>\n",
       "      <td>2021-06-08</td>\n",
       "      <td>AstraZeneca</td>\n",
       "      <td>Salud</td>\n",
       "      <td>1</td>\n",
       "      <td>ABX8674</td>\n",
       "    </tr>\n",
       "    <tr>\n",
       "      <th>3</th>\n",
       "      <td>M</td>\n",
       "      <td>40-49</td>\n",
       "      <td>Buenos Aires</td>\n",
       "      <td>06</td>\n",
       "      <td>Quilmes</td>\n",
       "      <td>658</td>\n",
       "      <td>Buenos Aires</td>\n",
       "      <td>06</td>\n",
       "      <td>Quilmes</td>\n",
       "      <td>658</td>\n",
       "      <td>2021-09-16</td>\n",
       "      <td>AstraZeneca</td>\n",
       "      <td>Estratégico</td>\n",
       "      <td>2</td>\n",
       "      <td>NK0224</td>\n",
       "    </tr>\n",
       "    <tr>\n",
       "      <th>4</th>\n",
       "      <td>M</td>\n",
       "      <td>40-49</td>\n",
       "      <td>Buenos Aires</td>\n",
       "      <td>06</td>\n",
       "      <td>San Isidro</td>\n",
       "      <td>756</td>\n",
       "      <td>CABA</td>\n",
       "      <td>02</td>\n",
       "      <td>COMUNA 4</td>\n",
       "      <td>004</td>\n",
       "      <td>2021-06-24</td>\n",
       "      <td>AstraZeneca</td>\n",
       "      <td>18 a 59 años CON Factores de Riesgo</td>\n",
       "      <td>1</td>\n",
       "      <td>NH0163</td>\n",
       "    </tr>\n",
       "  </tbody>\n",
       "</table>\n",
       "</div>"
      ],
      "text/plain": [
       "  sexo grupo_etario jurisdiccion_residencia jurisdiccion_residencia_id  \\\n",
       "0    F        40-49                 Mendoza                         50   \n",
       "1    F        40-49                 Mendoza                         50   \n",
       "2    M        40-49            Buenos Aires                         06   \n",
       "3    M        40-49            Buenos Aires                         06   \n",
       "4    M        40-49            Buenos Aires                         06   \n",
       "\n",
       "  depto_residencia depto_residencia_id jurisdiccion_aplicacion  \\\n",
       "0           La Paz                 042                 Mendoza   \n",
       "1           La Paz                 042                 Mendoza   \n",
       "2          Quilmes                 658            Buenos Aires   \n",
       "3          Quilmes                 658            Buenos Aires   \n",
       "4       San Isidro                 756                    CABA   \n",
       "\n",
       "  jurisdiccion_aplicacion_id depto_aplicacion depto_aplicacion_id  \\\n",
       "0                         50           La Paz                 042   \n",
       "1                         50           La Paz                 042   \n",
       "2                         06          Quilmes                 658   \n",
       "3                         06          Quilmes                 658   \n",
       "4                         02         COMUNA 4                 004   \n",
       "\n",
       "  fecha_aplicacion       vacuna                 condicion_aplicacion  \\\n",
       "0       2021-08-19  AstraZeneca  18 a 59 años CON Factores de Riesgo   \n",
       "1       2021-06-23  AstraZeneca  18 a 59 años CON Factores de Riesgo   \n",
       "2       2021-06-08  AstraZeneca                                Salud   \n",
       "3       2021-09-16  AstraZeneca                          Estratégico   \n",
       "4       2021-06-24  AstraZeneca  18 a 59 años CON Factores de Riesgo   \n",
       "\n",
       "   orden_dosis lote_vacuna  \n",
       "0            2      NJ0037  \n",
       "1            1      NH0163  \n",
       "2            1     ABX8674  \n",
       "3            2      NK0224  \n",
       "4            1      NH0163  "
      ]
     },
     "execution_count": 9,
     "metadata": {},
     "output_type": "execute_result"
    }
   ],
   "source": [
    "df.head()"
   ]
  },
  {
   "cell_type": "code",
   "execution_count": 10,
   "id": "bc7e8045-2783-4c1b-8d6f-1659831638cf",
   "metadata": {},
   "outputs": [
    {
     "data": {
      "text/plain": [
       "['2020-12-29', '2021-09-30']"
      ]
     },
     "execution_count": 10,
     "metadata": {},
     "output_type": "execute_result"
    }
   ],
   "source": [
    "# Rango temporal del dataframe \n",
    "[df.fecha_aplicacion.min(), df.fecha_aplicacion.max()]"
   ]
  },
  {
   "cell_type": "code",
   "execution_count": 6,
   "id": "349e4348-cafe-42ed-a1a7-091d4f9621c2",
   "metadata": {},
   "outputs": [
    {
     "data": {
      "text/html": [
       "<div>\n",
       "<style scoped>\n",
       "    .dataframe tbody tr th:only-of-type {\n",
       "        vertical-align: middle;\n",
       "    }\n",
       "\n",
       "    .dataframe tbody tr th {\n",
       "        vertical-align: top;\n",
       "    }\n",
       "\n",
       "    .dataframe thead th {\n",
       "        text-align: right;\n",
       "    }\n",
       "</style>\n",
       "<table border=\"1\" class=\"dataframe\">\n",
       "  <thead>\n",
       "    <tr style=\"text-align: right;\">\n",
       "      <th></th>\n",
       "      <th>fecha_aplicacion</th>\n",
       "      <th>vacuna</th>\n",
       "      <th>counts</th>\n",
       "    </tr>\n",
       "  </thead>\n",
       "  <tbody>\n",
       "    <tr>\n",
       "      <th>0</th>\n",
       "      <td>2020-12-29</td>\n",
       "      <td>Sputnik</td>\n",
       "      <td>20457</td>\n",
       "    </tr>\n",
       "    <tr>\n",
       "      <th>1</th>\n",
       "      <td>2020-12-30</td>\n",
       "      <td>Sputnik</td>\n",
       "      <td>20052</td>\n",
       "    </tr>\n",
       "    <tr>\n",
       "      <th>2</th>\n",
       "      <td>2020-12-31</td>\n",
       "      <td>Sputnik</td>\n",
       "      <td>2797</td>\n",
       "    </tr>\n",
       "    <tr>\n",
       "      <th>3</th>\n",
       "      <td>2021-01-01</td>\n",
       "      <td>AstraZeneca</td>\n",
       "      <td>1</td>\n",
       "    </tr>\n",
       "    <tr>\n",
       "      <th>4</th>\n",
       "      <td>2021-01-01</td>\n",
       "      <td>COVISHIELD</td>\n",
       "      <td>1</td>\n",
       "    </tr>\n",
       "    <tr>\n",
       "      <th>...</th>\n",
       "      <td>...</td>\n",
       "      <td>...</td>\n",
       "      <td>...</td>\n",
       "    </tr>\n",
       "    <tr>\n",
       "      <th>977</th>\n",
       "      <td>2021-09-29</td>\n",
       "      <td>Pfizer</td>\n",
       "      <td>8366</td>\n",
       "    </tr>\n",
       "    <tr>\n",
       "      <th>978</th>\n",
       "      <td>2021-09-29</td>\n",
       "      <td>Sinopharm</td>\n",
       "      <td>69797</td>\n",
       "    </tr>\n",
       "    <tr>\n",
       "      <th>979</th>\n",
       "      <td>2021-09-29</td>\n",
       "      <td>Sputnik</td>\n",
       "      <td>55502</td>\n",
       "    </tr>\n",
       "    <tr>\n",
       "      <th>980</th>\n",
       "      <td>2021-09-30</td>\n",
       "      <td>Pfizer</td>\n",
       "      <td>2</td>\n",
       "    </tr>\n",
       "    <tr>\n",
       "      <th>981</th>\n",
       "      <td>2021-09-30</td>\n",
       "      <td>Sputnik</td>\n",
       "      <td>3</td>\n",
       "    </tr>\n",
       "  </tbody>\n",
       "</table>\n",
       "<p>982 rows × 3 columns</p>\n",
       "</div>"
      ],
      "text/plain": [
       "    fecha_aplicacion       vacuna  counts\n",
       "0         2020-12-29      Sputnik   20457\n",
       "1         2020-12-30      Sputnik   20052\n",
       "2         2020-12-31      Sputnik    2797\n",
       "3         2021-01-01  AstraZeneca       1\n",
       "4         2021-01-01   COVISHIELD       1\n",
       "..               ...          ...     ...\n",
       "977       2021-09-29       Pfizer    8366\n",
       "978       2021-09-29    Sinopharm   69797\n",
       "979       2021-09-29      Sputnik   55502\n",
       "980       2021-09-30       Pfizer       2\n",
       "981       2021-09-30      Sputnik       3\n",
       "\n",
       "[982 rows x 3 columns]"
      ]
     },
     "execution_count": 6,
     "metadata": {},
     "output_type": "execute_result"
    }
   ],
   "source": [
    "# Agrupamos por fecha y vacuna\n",
    "df_agrupado = df.groupby(['fecha_aplicacion','vacuna']).size().reset_index(name='counts')\n",
    "df_agrupado"
   ]
  },
  {
   "cell_type": "code",
   "execution_count": 8,
   "id": "1d219a56-35d6-4d75-a6c1-3f9d891dede8",
   "metadata": {},
   "outputs": [],
   "source": [
    "# Convertimos dataframe agrupado a json\n",
    "#js = df_agrupado.to_json(orient = 'records')\n",
    "#js\n",
    "df_agrupado.to_json('vacunas_aplicadas.json', orient = 'records')"
   ]
  },
  {
   "cell_type": "code",
   "execution_count": 11,
   "id": "9165d325-9e3e-4036-bff6-3fa32ad9ee16",
   "metadata": {},
   "outputs": [
    {
     "data": {
      "text/plain": [
       "['Sputnik',\n",
       " 'AstraZeneca',\n",
       " 'COVISHIELD',\n",
       " 'Sinopharm',\n",
       " 'Moderna',\n",
       " 'Cansino',\n",
       " 'Pfizer']"
      ]
     },
     "execution_count": 11,
     "metadata": {},
     "output_type": "execute_result"
    }
   ],
   "source": [
    "# Vacunas Aplicadas\n",
    "vacunas = list(df_agrupado.vacuna.unique())\n",
    "vacunas"
   ]
  },
  {
   "cell_type": "code",
   "execution_count": null,
   "id": "b6aafaaa-cd70-42af-9360-7ea63153cea5",
   "metadata": {},
   "outputs": [],
   "source": []
  }
 ],
 "metadata": {
  "kernelspec": {
   "display_name": "Python 3",
   "language": "python",
   "name": "python3"
  },
  "language_info": {
   "codemirror_mode": {
    "name": "ipython",
    "version": 3
   },
   "file_extension": ".py",
   "mimetype": "text/x-python",
   "name": "python",
   "nbconvert_exporter": "python",
   "pygments_lexer": "ipython3",
   "version": "3.7.3"
  }
 },
 "nbformat": 4,
 "nbformat_minor": 5
}
